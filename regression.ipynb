{
 "cells": [
  {
   "cell_type": "code",
   "execution_count": 1,
   "metadata": {},
   "outputs": [],
   "source": [
    "from numpy import *\n",
    "from matplotlib.pyplot import *\n",
    "from xarray import open_dataset\n",
    "\n",
    "climate_data = open_dataset('/home/gszep/Downloads/Complete_TAVG_EqualArea.nc').to_dataframe()"
   ]
  },
  {
   "cell_type": "code",
   "execution_count": 2,
   "metadata": {},
   "outputs": [
    {
     "data": {
      "text/plain": [
       "latitude    longitude  \n",
       "-89.215027  -120.000000    0.446560\n",
       "             0.000000      0.430530\n",
       "             120.000000    0.432809\n",
       "-87.644936  -160.000000    0.459554\n",
       "            -120.000000    0.458987\n",
       "                             ...   \n",
       " 82.788071  -70.714287     0.063585\n",
       "            -57.857143     0.059406\n",
       "            -45.000000     0.054135\n",
       "            -32.142857     0.034269\n",
       "            -19.285715     0.010503\n",
       "Name: temperature, Length: 5498, dtype: float32"
      ]
     },
     "execution_count": 2,
     "metadata": {},
     "output_type": "execute_result"
    }
   ],
   "source": [
    "climate_data.groupby(['latitude','longitude']).temperature.mean()"
   ]
  },
  {
   "cell_type": "code",
   "execution_count": 48,
   "metadata": {},
   "outputs": [
    {
     "data": {
      "image/png": "[encoded data removed]",
      "text/plain": [
       "<Figure size 432x432 with 1 Axes>"
      ]
     },
     "metadata": {
      "needs_background": "light"
     },
     "output_type": "display_data"
    }
   ],
   "source": [
    "Δt = 0.1\n",
    "η = 0.5\n",
    "\n",
    "trange = arange(0,5*pi,Δt)\n",
    "data = array([ 3*log(t+2) + cos(2*t)*sin(t)+η*random.normal() for t in trange ])\n",
    "\n",
    "figure(figsize=(6,6))\n",
    "plot(trange,data,'x',color='k')\n",
    "\n",
    "xlabel('t',fontsize=16)\n",
    "ylabel('x(t)',fontsize=16);"
   ]
  },
  {
   "cell_type": "code",
   "execution_count": 5,
   "metadata": {},
   "outputs": [],
   "source": [
    "def model(x,θ) :\n",
    "    return (x-)θ**2"
   ]
  },
  {
   "cell_type": "code",
   "execution_count": 7,
   "metadata": {},
   "outputs": [],
   "source": [
    "def likelihood(θ,data) :\n",
    "    return prod([ model(x,θ) for x in data ])"
   ]
  },
  {
   "cell_type": "code",
   "execution_count": null,
   "metadata": {},
   "outputs": [],
   "source": []
  }
 ],
 "metadata": {
  "@webio": {
   "lastCommId": null,
   "lastKernelId": null
  },
  "kernelspec": {
   "display_name": "Python 3",
   "language": "python",
   "name": "python3"
  },
  "language_info": {
   "codemirror_mode": {
    "name": "ipython",
    "version": 3
   },
   "file_extension": ".py",
   "mimetype": "text/x-python",
   "name": "python",
   "nbconvert_exporter": "python",
   "pygments_lexer": "ipython3",
   "version": "3.6.9"
  }
 },
 "nbformat": 4,
 "nbformat_minor": 2
}
